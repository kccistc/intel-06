{
 "cells": [
  {
   "cell_type": "code",
   "execution_count": null,
   "id": "b2535c14",
   "metadata": {
    "vscode": {
     "languageId": "plaintext"
    }
   },
   "outputs": [],
   "source": [
    "import numpy as np\n",
    "import matplotlib.pyplot as plt\n",
    "from matplotlib.colors import LogNorm\n",
    "from visualize import contour_with_quiver\n",
    "from visualize import contour_with_path\n",
    "from visualize import surf\n",
    "\n",
    "xmin, xmax, xstep = -4.0, 4.0, .25\n",
    "ymin, ymax, ystep = -4.0, 4.0, .25\n",
    "\n",
    "x, y = np.meshgrid(np.arange(xmin, xmax + xstep, xstep),\n",
    "                   np.arange(ymin, ymax + ystep, ystep))\n",
    "\n",
    "f = lambda x, y : (x - 2) ** 2 + (y - 2) ** 2\n",
    "z = f(x, y)\n",
    "minima = np.array([2., 2.])\n",
    "\n",
    "f(*minima)\n",
    "\n",
    "minima_ = minima.reshape(-1, 1)\n",
    "print(minima, minima_)\n",
    "surf(f, x, y, minima=minima_)\n",
    "\n",
    "grad_f_x = lambda x, y : 2 * (x - 2)\n",
    "grad_f_y = lambda x, y : 2 * (y - 2)\n",
    "\n",
    "contour_with_quiver(f, x, y, grad_f_x, grad_f_y,minima=minima_)\n",
    "\n",
    "def steepest_descent_twod(func, gradx, grady, x0, max_iteration = 10, learning_rate = 0.25, verbose = True):\n",
    "    paths = [x0]\n",
    "    fval_paths = [f(x0[0], x0[1])]\n",
    "    for i in range(max_iteration):\n",
    "        grad = np.array([grad_f_x(*x0), grad_f_y(*x0)])\n",
    "        x1 = x0 - learning_rate * grad\n",
    "        fval = f(*x1)\n",
    "        if verbose:\n",
    "            print(i, x1, fval)\n",
    "        x0 = x1\n",
    "        paths.append(x0)\n",
    "        fval_paths.append(fval)\n",
    "    paths = np.array(paths)\n",
    "    paths = np.array(np.matrix(paths).T)\n",
    "    fval_paths = np.array(fval_paths)\n",
    "    return (x0, fval, paths, fval_paths)\n",
    "\n",
    "x0 = np.array([-2., -2.])\n",
    "xopt, fopt, paths, fval_paths = steepest_descent_twod(f, grad_f_x, grad_f_y, x0)\n",
    "\n",
    "contour_with_path(f, x, y, paths=paths, minima=np.array([[2], [2]]))"
   ]
  }
 ],
 "metadata": {
  "language_info": {
   "name": "python"
  }
 },
 "nbformat": 4,
 "nbformat_minor": 5
}
