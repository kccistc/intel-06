{
 "cells": [
  {
   "cell_type": "code",
   "execution_count": null,
   "id": "3d811198",
   "metadata": {
    "vscode": {
     "languageId": "plaintext"
    }
   },
   "outputs": [],
   "source": [
    "import numpy as np\n",
    "import matplotlib.pylab as plt\n",
    "\n",
    "x = np.linspace(-2, 2, 11)\n",
    "y = np.linspace(-2, 2, 11)\n",
    "\n",
    "x, y = np.meshgrid(x, y)\n",
    "print(x)\n",
    "print(y)\n",
    "\n",
    "f = lambda x, y: (x-1)**2 + (y-1)**2\n",
    "z = f(x, y)\n",
    "print(z)\n",
    "\n",
    "grad_f_x = lambda x, y: 2*(x-1)\n",
    "grad_f_y = lambda x, y: 2*(y-1)\n",
    "\n",
    "dz_dx = grad_f_x(x, y)\n",
    "dz_dy = grad_f_y(x, y)\n",
    "\n",
    "ax = plt.axes()\n",
    "ax.contour(x, y, z, levels=np.linspace(0, 10, 20), cmap=plt.cm.jet)\n",
    "ax.quiver(x, y, -dz_dx, -dz_dy)\n",
    "ax.grid()\n",
    "ax.axis('equal')\n",
    "ax.set_xlabel('$x$')\n",
    "ax.set_ylabel('$y$')\n",
    "plt.show()\n"
   ]
  }
 ],
 "metadata": {
  "language_info": {
   "name": "python"
  }
 },
 "nbformat": 4,
 "nbformat_minor": 5
}
