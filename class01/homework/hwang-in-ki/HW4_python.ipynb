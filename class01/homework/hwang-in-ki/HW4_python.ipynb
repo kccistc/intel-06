{
 "cells": [
  {
   "cell_type": "code",
   "execution_count": null,
   "id": "2b0fd518",
   "metadata": {},
   "outputs": [],
   "source": [
    "import numpy as np\n",
    "import cv2\n",
    "\n",
    "tpl = ('A', 'B')\n",
    "print(tpl)\n",
    "lst = list(tpl)\n",
    "lst.append('C')\n",
    "tpl = tuple(lst)\n",
    "print(tpl)\n",
    "\n",
    "N = int(input())\n",
    "array = np.zeros((N, N))\n",
    "for i in range(N):\n",
    "    for j in range(N):\n",
    "        array[i][j] = i * N + j + 1\n",
    "print(array)\n",
    "\n",
    "array = array.reshape(1, N ** 2)\n",
    "print(array)"
   ]
  },
  {
   "cell_type": "code",
   "execution_count": null,
   "id": "9909b452",
   "metadata": {},
   "outputs": [],
   "source": [
    "import numpy as np\n",
    "import cv2\n",
    "\n",
    "img = cv2.imread('1.webp')\n",
    "img = cv2.cvtColor(img, cv2.COLOR_BGR2RGB)\n",
    "img = np.expand_dims(img, axis=0)\n",
    "img = np.transpose(img, (0, 3, 1, 2))\n",
    "print(img.shape)\n",
    "\n",
    "\n",
    "def filter2D(image, ddepth, kernel):\n",
    "    output = np.zeros_like(image)\n",
    "    k_height, k_width = kernel.shape\n",
    "    height, width = image.shape\n",
    "    pad_height = k_height // 2\n",
    "    pad_width = k_width // 2\n",
    "    padded_image = np.pad(image, ((pad_height, pad_height),\n",
    "                          (pad_width, pad_width)), mode='constant', constant_values=0)\n",
    "    for i in range(height):\n",
    "        for j in range(width):\n",
    "            region = padded_image[i:i + k_height, j:j + k_width]\n",
    "            output[i, j] = np.sum(region * kernel)\n",
    "    return output\n",
    "\n",
    "\n",
    "img = cv2.imread('1.webp', cv2.IMREAD_GRAYSCALE)\n",
    "kernel = np.array([[1, 1, 1], [1, -8, 1], [1, 1, 1]])\n",
    "output = filter2D(img, -1, kernel)\n",
    "cv2.imshow('output', output)\n",
    "cv2.waitKey(0)\n"
   ]
  }
 ],
 "metadata": {
  "language_info": {
   "name": "python"
  }
 },
 "nbformat": 4,
 "nbformat_minor": 5
}
